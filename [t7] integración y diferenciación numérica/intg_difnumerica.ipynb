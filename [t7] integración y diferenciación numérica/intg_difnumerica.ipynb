{
 "cells": [
  {
   "cell_type": "markdown",
   "metadata": {},
   "source": [
    "![](t71.PNG)"
   ]
  },
  {
   "cell_type": "code",
   "execution_count": 5,
   "metadata": {
    "scrolled": false
   },
   "outputs": [
    {
     "name": "stdout",
     "output_type": "stream",
     "text": [
      "___ EJERCICIO #1 ___\n",
      "[Met. Trapecio]: I = 5280.0\n",
      "con un % de error (comparación con el valor real) de: %Error= 378.261\n",
      " \n",
      "[Met. Trapecio Compuesto]: I = 2634.0  con n= 2\n",
      "con un % de error (comparación con el valor real) de: %Error= 138.587\n",
      " \n",
      "[Met. Trapecio Compuesto]: I = 1516.875  con n= 4\n",
      "con un % de error (comparación con el valor real) de: %Error= 37.398\n",
      " \n"
     ]
    },
    {
     "data": {
      "image/png": "[encoded data removed]",
      "text/plain": [
       "<Figure size 432x288 with 1 Axes>"
      ]
     },
     "metadata": {
      "needs_background": "light"
     },
     "output_type": "display_data"
    },
    {
     "data": {
      "image/png": "[encoded data removed]",
      "text/plain": [
       "<Figure size 432x288 with 1 Axes>"
      ]
     },
     "metadata": {
      "needs_background": "light"
     },
     "output_type": "display_data"
    },
    {
     "name": "stdout",
     "output_type": "stream",
     "text": [
      "[Obs] %Error(n=35)= 0.5002871991742612\n",
      "       Valor(n=35)= 1109.5231706788838\n",
      "###\n",
      "[Met. Simpson 1/3]: I = 1752.0\n",
      "con un % de error (comparación con el valor real) de: %Error= 58.696\n",
      " \n",
      "[Met. Simpson 3/8]: I = 1392.0\n",
      "con un % de error (comparación con el valor real) de: %Error= 26.087\n",
      " \n",
      " \n"
     ]
    }
   ],
   "source": [
    "#! /usr/bin/python3\n",
    "\n",
    "from numpy import *\n",
    "\n",
    "import matplotlib.pyplot as plt # from pylab import plot,show\n",
    "\n",
    "from matplotlib.pyplot import figure\n",
    "\n",
    "from Chira_modulo import *\n",
    "\n",
    "import warnings\n",
    "warnings.filterwarnings(\"ignore\")\n",
    "\n",
    "\n",
    "####################                    ####################\n",
    "############################################################\n",
    "####################   EJERCICIO 7.1    ####################\n",
    "############################################################\n",
    "####################                    ####################\n",
    "print(\"___ EJERCICIO #1 ___\")\n",
    "##Funcion del problema\n",
    "\n",
    "def func1(x):\n",
    "    return 1 - x - (4*x**3) + (2*x**5)\n",
    "\n",
    "#valor analitico integral:\n",
    "valf1=1104\n",
    "\n",
    "\n",
    "####################\n",
    "'''\n",
    "    MÉTODO DEL TRAPECIO\n",
    "'''\n",
    "####################\n",
    "\n",
    "I_trap= trapecio(-2,4,func1) #valor de la integral con el met trapecio\n",
    "\n",
    "print(\"[Met. Trapecio]: I =\",I_trap)\n",
    "#compara con el valor analitico\n",
    "print(\"con un % de error (comparación con el valor real) de: %Error=\",round(porc_err(valf1,I_trap),3))\n",
    "print(\" \")\n",
    "\n",
    "\n",
    "\n",
    "####################\n",
    "'''\n",
    "    MÉTODO DEL TRAPECIO COMPUESTO\n",
    "'''\n",
    "####################\n",
    "\n",
    "n=2   #nro de puntos elegidos\n",
    "I_tc=trap_comp(-2,4,func1,n) #valor de la integral con el met trapecio compuesto\n",
    "print(\"[Met. Trapecio Compuesto]: I =\",I_tc,\" con n=\",n)\n",
    "print(\"con un % de error (comparación con el valor real) de: %Error=\",round(porc_err(valf1,I_tc),3))\n",
    "print(\" \")\n",
    "\n",
    "n=4\n",
    "I_tc=trap_comp(-2,4,func1,n)\n",
    "print(\"[Met. Trapecio Compuesto]: I =\",I_tc,\" con n=\",n)\n",
    "print(\"con un % de error (comparación con el valor real) de: %Error=\",round(porc_err(valf1,I_tc),3))\n",
    "print(\" \")\n",
    "\n",
    "\n",
    "\n",
    "####################\n",
    "\n",
    "#Grafica de evolucion del error segun h y n\n",
    "print(evolucionreal_trapcomp(-2,4,func1,valf1))\n",
    "\n",
    "\n",
    "\n",
    "####################\n",
    "'''\n",
    "    MÉTODO DEL SIMPSON 1/3\n",
    "'''\n",
    "#################### \n",
    "\n",
    "Isimp13=simp13(-2,4,func1)  #valor de la integral con el met simpson 1/3\n",
    "print(\"[Met. Simpson 1/3]: I =\",Isimp13)\n",
    "print(\"con un % de error (comparación con el valor real) de: %Error=\",round(porc_err(valf1,Isimp13),3))\n",
    "print(\" \")\n",
    "\n",
    "\n",
    "\n",
    "####################\n",
    "'''\n",
    "    MÉTODO DEL SIMPSON 3/8\n",
    "'''\n",
    "#################### \n",
    "    \n",
    "Isimp38= simp38(-2,4,func1)  #valor de la integral con el met simpson 3/8\n",
    "print(\"[Met. Simpson 3/8]: I =\",Isimp38)\n",
    "print(\"con un % de error (comparación con el valor real) de: %Error=\",round(porc_err(valf1,Isimp38),3))\n",
    "print(\" \")\n",
    "\n",
    "print(\" \")\n"
   ]
  },
  {
   "cell_type": "markdown",
   "metadata": {},
   "source": [
    "![](t72.PNG)"
   ]
  },
  {
   "cell_type": "code",
   "execution_count": 12,
   "metadata": {},
   "outputs": [
    {
     "name": "stdout",
     "output_type": "stream",
     "text": [
      "___ EJERCICIO #2 ___\n",
      "[Met. Trapecio Compuesto: Punto No-Eq]: Distancia recorrida por el auto = 60.125 m\n",
      " \n"
     ]
    }
   ],
   "source": [
    "####################                    ####################\n",
    "############################################################\n",
    "####################   EJERCICIO 7.2    ####################\n",
    "############################################################\n",
    "####################                    ####################\n",
    "print(\"___ EJERCICIO #2 ___\")\n",
    "\n",
    "t=array([1,2,3.25,4.5,6,7,8,8.5,9,10],float64)\n",
    "v=array([5,6,5.5,7,8.5,8,6,7,7,5],float64)\n",
    "\n",
    "####################\n",
    "'''\n",
    "    MÉTODO DEL TRAPECIO COMPUESTO PARA PTS NO EQUIDISTANTES\n",
    "'''\n",
    "#################### \n",
    "\n",
    "print(\"[Met. Trapecio Compuesto: Punto No-Eq]: Distancia recorrida por el auto =\",trap_comp_ptsnoeq(t,v),\"m\")\n",
    "print(\" \")\n"
   ]
  },
  {
   "cell_type": "markdown",
   "metadata": {},
   "source": [
    "![](t73.PNG)"
   ]
  },
  {
   "cell_type": "code",
   "execution_count": 9,
   "metadata": {},
   "outputs": [
    {
     "name": "stdout",
     "output_type": "stream",
     "text": [
      "___ EJERCICIO #3 ___\n",
      "[Met. Trapecio Compuesto]: I = 1.0688000000000115  con n= 2\n",
      " \n",
      "[Met. Trapecio Compuesto]: I = 1.3695736625514494  con n= 3\n",
      " \n",
      "[Met. Trapecio Compuesto]: I = 1.5398809600000132  con n= 5\n",
      " \n",
      "Luego, extrapolando, obtenemos:\n",
      "[Extrapolacion de Richardson]: I= 1.6101925925925997 entre n=2 y n=3\n",
      "[Extrapolacion de Richardson]: I= 1.62961066666668 entre n=2 y n=5\n",
      "[Extrapolacion de Richardson]: I= 1.6356788148148302 entre n=3 y n=5\n",
      " \n",
      "[OBS]: valor calculado para la integral I =  1.64186\n",
      " \n",
      " \n"
     ]
    }
   ],
   "source": [
    "####################                    ####################\n",
    "############################################################\n",
    "####################   EJERCICIO 7.3    ####################\n",
    "############################################################\n",
    "####################                    ####################\n",
    "\n",
    "print(\"___ EJERCICIO #3 ___\")\n",
    "def func3(x):\n",
    "    return 0.2 + 25*x - 200*x**2 + 675*x**3 - 900*x**4 + 400*x**5\n",
    "\n",
    "####################\n",
    "'''\n",
    "    EXTRAPOLACION DE RICHARDSON\n",
    "'''\n",
    "#################### \n",
    "\n",
    "n=2\n",
    "I_tc2=trap_comp(0,0.8,func3,n)\n",
    "print(\"[Met. Trapecio Compuesto]: I =\",I_tc2,\" con n=\",n)\n",
    "print(\" \")\n",
    "\n",
    "n=3\n",
    "I_tc3=trap_comp(0,0.8,func3,n)\n",
    "print(\"[Met. Trapecio Compuesto]: I =\",I_tc3,\" con n=\",n)\n",
    "print(\" \")\n",
    "\n",
    "n=5\n",
    "I_tc5=trap_comp(0,0.8,func3,n)\n",
    "print(\"[Met. Trapecio Compuesto]: I =\",I_tc5,\" con n=\",n)\n",
    "print(\" \")\n",
    "\n",
    "print(\"Luego, extrapolando, obtenemos:\")\n",
    "print(\"[Extrapolacion de Richardson]: I=\",extrapol_rich(I_tc2,2,I_tc3,3,0,0.8),\"entre n=2 y n=3\")\n",
    "print(\"[Extrapolacion de Richardson]: I=\",extrapol_rich(I_tc2,2,I_tc5,5,0,0.8),\"entre n=2 y n=5\")\n",
    "print(\"[Extrapolacion de Richardson]: I=\",extrapol_rich(I_tc3,3,I_tc5,5,0,0.8),\"entre n=3 y n=5\")\n",
    "print(\" \")\n",
    "valf3=1.64186\n",
    "print(\"[OBS]: valor calculado para la integral I = \",valf3)\n",
    "print(\" \")\n",
    "\n",
    "\n",
    "print(\" \")"
   ]
  },
  {
   "cell_type": "markdown",
   "metadata": {},
   "source": [
    "![](t74.PNG)"
   ]
  },
  {
   "cell_type": "code",
   "execution_count": 10,
   "metadata": {},
   "outputs": [
    {
     "name": "stdout",
     "output_type": "stream",
     "text": [
      "___ EJERCICIO #4 ___\n",
      "Pi a 16 cifras: 3.141592653589793\n",
      "[Cuad.  GL] con 3 puntos: pi ≈ 3.1410681399631675  %Error= 0.0167\n",
      "[Cuad. GRL] con 3 puntos: pi ≈ 3.143350222239188  %Error= 0.05595\n",
      "[Cuad. GLL] con 3 puntos: pi ≈ 3.133333333333332  %Error= 0.2629\n",
      "\n",
      "[Cuad.  GL] con 4 puntos: pi ≈ 3.1416119052458056  %Error= 0.00061\n",
      "[Cuad. GRL] con 4 puntos: pi ≈ 3.1416223452667063  %Error= 0.00095\n",
      "[Cuad. GLL] con 4 puntos: pi ≈ 3.142276422764228  %Error= 0.02177\n",
      "\n",
      "[Cuad.  GL] con 5 puntos: pi ≈ 3.141592639884753  %Error= 4.3624497906012605e-07\n",
      "[Cuad. GRL] con 5 puntos: pi ≈ 3.141587299201225  %Error= 0.00017\n",
      "[Cuad. GLL] con 5 puntos: pi ≈ 3.141568627450979  %Error= 0.00076\n",
      "\n",
      "\n"
     ]
    }
   ],
   "source": [
    "\n",
    "####################                    ####################\n",
    "############################################################\n",
    "####################   EJERCICIO 7.4    ####################\n",
    "############################################################\n",
    "####################                    ####################\n",
    "print(\"___ EJERCICIO #4 ___\")\n",
    "def fpi(x):\n",
    "    return 4/(1+x**2)\n",
    "\n",
    "def ej(x):\n",
    "    return cos(x)\n",
    "\n",
    "####################\n",
    "'''\n",
    "    CUADRATURA DE GAUSS\n",
    "'''\n",
    "#################### \n",
    "\n",
    "\n",
    "print(\"Pi a 16 cifras:\",pi)\n",
    "n=3\n",
    "print(\"[Cuad.  GL] con\",n,\"puntos: pi\",u\"\\u2248\",cuad_GL(fpi,0,1,n),\" %Error=\",round(porc_err(pi,cuad_GL(fpi,0,1,n)),5))\n",
    "print(\"[Cuad. GRL] con\",n,\"puntos: pi\",u\"\\u2248\",cuad_GRL(fpi,0,1,n),\" %Error=\",round(porc_err(pi,cuad_GRL(fpi,0,1,n)),5))\n",
    "print(\"[Cuad. GLL] con\",n,\"puntos: pi\",u\"\\u2248\",cuad_GLL(fpi,0,1,n),\" %Error=\",round(porc_err(pi,cuad_GLL(fpi,0,1,n)),5))\n",
    "print(\"\")\n",
    "\n",
    "n=4\n",
    "print(\"[Cuad.  GL] con\",n,\"puntos: pi\",u\"\\u2248\",cuad_GL(fpi,0,1,n),\" %Error=\",round(porc_err(pi,cuad_GL(fpi,0,1,n)),5))\n",
    "print(\"[Cuad. GRL] con\",n,\"puntos: pi\",u\"\\u2248\",cuad_GRL(fpi,0,1,n),\" %Error=\",round(porc_err(pi,cuad_GRL(fpi,0,1,n)),5))\n",
    "print(\"[Cuad. GLL] con\",n,\"puntos: pi\",u\"\\u2248\",cuad_GLL(fpi,0,1,n),\" %Error=\",round(porc_err(pi,cuad_GLL(fpi,0,1,n)),5))\n",
    "print(\"\")\n",
    "\n",
    "n=5\n",
    "print(\"[Cuad.  GL] con\",n,\"puntos: pi\",u\"\\u2248\",cuad_GL(fpi,0,1,n),\" %Error=\",porc_err(pi,cuad_GL(fpi,0,1,n)))\n",
    "print(\"[Cuad. GRL] con\",n,\"puntos: pi\",u\"\\u2248\",cuad_GRL(fpi,0,1,n),\" %Error=\",round(porc_err(pi,cuad_GRL(fpi,0,1,n)),5)) #revisar\n",
    "print(\"[Cuad. GLL] con\",n,\"puntos: pi\",u\"\\u2248\",cuad_GLL(fpi,0,1,n),\" %Error=\",round(porc_err(pi,cuad_GLL(fpi,0,1,n)),5))\n",
    "print(\"\")\n",
    "\n",
    "print(\"\")\n"
   ]
  },
  {
   "cell_type": "markdown",
   "metadata": {},
   "source": [
    "![](t75.PNG)"
   ]
  },
  {
   "cell_type": "code",
   "execution_count": 11,
   "metadata": {},
   "outputs": [
    {
     "name": "stdout",
     "output_type": "stream",
     "text": [
      "___ EJERCICIO #5 ___\n",
      "## DIF FORWARD ##\n",
      "\n",
      "Velocidad(t= 200 )= 140.0 er +  -89.60000000000036 e θ\n",
      "Velocidad(t= 202 )= 82.5 er +  -53.70000000000064 e θ\n",
      "Velocidad(t= 204 )= 122.5 er +  -69.49999999999913 e θ\n",
      "\n",
      "Aceleración(t= 200 )= -44.06800000000001 er +  20.700000000000003 e θ\n",
      "Aceleración(t= 202 )= 26.962999999999987 er +  -15.074999999999733 e θ\n",
      "Aceleración(t= 204 )= -0.8687499999999785 er +  24.737499999999446 e θ\n",
      "\n",
      "\n",
      "## DIF CENTRADA ##\n",
      "\n",
      "Velocidad(t= 202 )= 110.0 er +  -67.12500000000006 e θ\n",
      "Velocidad(t= 204 )= 107.5 er +  -55.599999999999895 e θ\n",
      "Velocidad(t= 206 )= 117.5 er +  -43.49999999999988 e θ\n",
      "\n",
      "Aceleración(t= 202 )= -15.8390625 er +  10.675000000000008 e θ\n",
      "Aceleración(t= 204 )= 11.944000000000003 er +  -2.1499999999998414 e θ\n",
      "Aceleración(t= 206 )= -2.826249999999998 er +  12.737499999999857 e θ\n",
      "\n",
      "\n",
      "## DIF BACKWARD ##\n",
      "\n",
      "Velocidad(t= 206 )= 132.5 er +  -57.99999999999973 e θ\n",
      "Velocidad(t= 208 )= 112.5 er +  -15.075000000000014 e θ\n",
      "Velocidad(t= 210 )= 100.0 er +  -31.200000000000202 e θ\n",
      "\n",
      "Aceleración(t= 206 )= 39.42000000000001 er +  -17.14999999999968 e θ\n",
      "Aceleración(t= 208 )= -17.5376875 er +  29.58749999999902 e θ\n",
      "Aceleración(t= 210 )= -7.656000000000002 er +  -16.60000000000002 e θ\n",
      "\n",
      "\n",
      "FIN\n"
     ]
    }
   ],
   "source": [
    "####################                    ####################\n",
    "############################################################\n",
    "####################   EJERCICIO 7.5    ####################\n",
    "############################################################\n",
    "####################                    ####################\n",
    "print(\"___ EJERCICIO #5 ___\")\n",
    "\n",
    "t=array([200,202,204,206,208,210])#el paso es siempre 2 \n",
    "theta=array([0.75,0.72,0.70,0.68,0.67,0.66])\n",
    "r=array([5120,5370,5560,5800,6030,6240])\n",
    "\n",
    "####################\n",
    "'''\n",
    "    DIF FORWARD\n",
    "'''\n",
    "#################### \n",
    "\n",
    "#Obteniendo las derivadas desde las funciones\n",
    "drF_O2=dif_forw(r,2,t)          #derivadas forward de R\n",
    "dthF_O2=dif_forw(theta,2,t)     #derivadas forward de Theta\n",
    "\n",
    "print(\"## DIF FORWARD ##\")\n",
    "print(\"\")\n",
    "rforw=eligeforw(r)\n",
    "tforw=eligeforw(t)\n",
    "print(vels(drF_O2,dthF_O2,rforw,tforw))\n",
    "print(accs(drF_O2,dthF_O2,rforw,tforw))\n",
    "print(\"\")\n",
    "\n",
    "\n",
    "\n",
    "####################\n",
    "'''\n",
    "    DIF CENTRADA\n",
    "'''\n",
    "#################### \n",
    "\n",
    "#Obteniendo las derivadas desde las funciones\n",
    "drC_O2=dif_cent(r,1,t)          #derivadas forward de R\n",
    "dthC_O2=dif_cent(theta,1,t)     #derivadas forward de Theta\n",
    "print(\"## DIF CENTRADA ##\")\n",
    "print(\"\")\n",
    "rcent=eligecent(r)\n",
    "tcent=eligecent(t)\n",
    "print(vels(drC_O2,dthC_O2,rcent,tcent))\n",
    "print(accs(drC_O2,dthC_O2,rcent,tcent))\n",
    "print(\"\")\n",
    "\n",
    "\n",
    "\n",
    "####################\n",
    "'''\n",
    "    DIF BACKWARDS\n",
    "'''\n",
    "#################### \n",
    "\n",
    "#Obteniendo las derivadas desde las funciones\n",
    "drB_O2=dif_back(r,2,t)          #derivadas forward de R\n",
    "dthB_O2=dif_back(theta,2,t)     #derivadas forward de Theta\n",
    "\n",
    "print(\"## DIF BACKWARD ##\")\n",
    "print(\"\")\n",
    "rback=eligeback(r)\n",
    "tback=eligeback(t)\n",
    "print(vels(drB_O2,dthB_O2,rback,tback))\n",
    "print(accs(drB_O2,dthB_O2,rback,tback))\n",
    "print(\"\")\n",
    "print(\"FIN\")"
   ]
  }
 ],
 "metadata": {
  "kernelspec": {
   "display_name": "Python 3",
   "language": "python",
   "name": "python3"
  },
  "language_info": {
   "codemirror_mode": {
    "name": "ipython",
    "version": 3
   },
   "file_extension": ".py",
   "mimetype": "text/x-python",
   "name": "python",
   "nbconvert_exporter": "python",
   "pygments_lexer": "ipython3",
   "version": "3.7.6"
  }
 },
 "nbformat": 4,
 "nbformat_minor": 4
}
